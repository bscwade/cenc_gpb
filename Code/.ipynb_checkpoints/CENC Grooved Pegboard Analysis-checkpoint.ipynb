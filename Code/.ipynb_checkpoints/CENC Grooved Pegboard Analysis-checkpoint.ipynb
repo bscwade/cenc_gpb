{
 "cells": [
  {
   "cell_type": "code",
   "execution_count": 44,
   "metadata": {},
   "outputs": [
    {
     "name": "stdout",
     "output_type": "stream",
     "text": [
      "0.23.2\n"
     ]
    }
   ],
   "source": [
    "import numpy as np\n",
    "import os\n",
    "import neuroCombat as ComBat\n",
    "import pandas as pd\n",
    "import matplotlib.pyplot as plt\n",
    "from sklearn.linear_model import LinearRegression\n",
    "import statsmodels.api as sm\n",
    "import statsmodels.formula.api as smf\n",
    "from statsmodels.stats.multitest import multipletests as mc\n",
    "import sklearn\n",
    "from sklearn.svm import SVR\n",
    "from sklearn.ensemble import RandomForestRegressor\n",
    "from sklearn.ensemble import GradientBoostingRegressor\n",
    "from sklearn.pipeline import make_pipeline\n",
    "from sklearn.model_selection import cross_val_score\n",
    "from sklearn.model_selection import cross_val_predict\n",
    "from sklearn.model_selection import KFold\n",
    "from sklearn.model_selection import train_test_split\n",
    "from sklearn.preprocessing import StandardScaler\n",
    "from sklearn.impute import SimpleImputer\n",
    "from sklearn.inspection import plot_partial_dependence\n",
    "from sklearn.inspection import permutation_importance\n",
    "from itertools import compress\n",
    "import seaborn as sns\n",
    "%matplotlib inline\n",
    "plt.style.use('seaborn-whitegrid')\n",
    "print(sklearn.__version__)"
   ]
  },
  {
   "cell_type": "markdown",
   "metadata": {},
   "source": [
    "# Set parameters"
   ]
  },
  {
   "cell_type": "code",
   "execution_count": 77,
   "metadata": {},
   "outputs": [],
   "source": [
    "y_name='GPBNONDOMHANDTIME'\n",
    "n_estimators=1000\n",
    "n_perm=1000\n",
    "n_jobs=10\n",
    "datapath='/Users/Tate/Ben/Projects/CENC/GPB/Data/'"
   ]
  },
  {
   "cell_type": "markdown",
   "metadata": {},
   "source": [
    "# Data Preparation"
   ]
  },
  {
   "cell_type": "code",
   "execution_count": 31,
   "metadata": {},
   "outputs": [
    {
     "data": {
      "text/html": [
       "<div>\n",
       "<style scoped>\n",
       "    .dataframe tbody tr th:only-of-type {\n",
       "        vertical-align: middle;\n",
       "    }\n",
       "\n",
       "    .dataframe tbody tr th {\n",
       "        vertical-align: top;\n",
       "    }\n",
       "\n",
       "    .dataframe thead th {\n",
       "        text-align: right;\n",
       "    }\n",
       "</style>\n",
       "<table border=\"1\" class=\"dataframe\">\n",
       "  <thead>\n",
       "    <tr style=\"text-align: right;\">\n",
       "      <th></th>\n",
       "      <th>Subject</th>\n",
       "      <th>Site</th>\n",
       "      <th>ACR</th>\n",
       "      <th>ACR_L</th>\n",
       "      <th>ACR_R</th>\n",
       "      <th>ALIC</th>\n",
       "      <th>ALIC_L</th>\n",
       "      <th>ALIC_R</th>\n",
       "      <th>AverageFA</th>\n",
       "      <th>BCC</th>\n",
       "      <th>...</th>\n",
       "      <th>SFO_R</th>\n",
       "      <th>SLF</th>\n",
       "      <th>SLF_L</th>\n",
       "      <th>SLF_R</th>\n",
       "      <th>SS</th>\n",
       "      <th>SS_L</th>\n",
       "      <th>SS_R</th>\n",
       "      <th>UNC</th>\n",
       "      <th>UNC_L</th>\n",
       "      <th>UNC_R</th>\n",
       "    </tr>\n",
       "  </thead>\n",
       "  <tbody>\n",
       "    <tr>\n",
       "      <td>0</td>\n",
       "      <td>01C1002</td>\n",
       "      <td>01C</td>\n",
       "      <td>0.421535</td>\n",
       "      <td>0.427883</td>\n",
       "      <td>0.415151</td>\n",
       "      <td>0.495298</td>\n",
       "      <td>0.495686</td>\n",
       "      <td>0.494945</td>\n",
       "      <td>0.397502</td>\n",
       "      <td>0.620890</td>\n",
       "      <td>...</td>\n",
       "      <td>0.476859</td>\n",
       "      <td>0.469410</td>\n",
       "      <td>0.469358</td>\n",
       "      <td>0.469460</td>\n",
       "      <td>0.530773</td>\n",
       "      <td>0.534281</td>\n",
       "      <td>0.527254</td>\n",
       "      <td>0.538239</td>\n",
       "      <td>0.521629</td>\n",
       "      <td>0.549687</td>\n",
       "    </tr>\n",
       "    <tr>\n",
       "      <td>2</td>\n",
       "      <td>01C1004</td>\n",
       "      <td>01C</td>\n",
       "      <td>0.388699</td>\n",
       "      <td>0.390224</td>\n",
       "      <td>0.387165</td>\n",
       "      <td>0.496039</td>\n",
       "      <td>0.496829</td>\n",
       "      <td>0.495321</td>\n",
       "      <td>0.385812</td>\n",
       "      <td>0.596337</td>\n",
       "      <td>...</td>\n",
       "      <td>0.429183</td>\n",
       "      <td>0.476475</td>\n",
       "      <td>0.489240</td>\n",
       "      <td>0.463976</td>\n",
       "      <td>0.512492</td>\n",
       "      <td>0.517208</td>\n",
       "      <td>0.507762</td>\n",
       "      <td>0.466360</td>\n",
       "      <td>0.446216</td>\n",
       "      <td>0.480243</td>\n",
       "    </tr>\n",
       "    <tr>\n",
       "      <td>4</td>\n",
       "      <td>01C1005</td>\n",
       "      <td>01C</td>\n",
       "      <td>0.395450</td>\n",
       "      <td>0.410520</td>\n",
       "      <td>0.380294</td>\n",
       "      <td>0.523197</td>\n",
       "      <td>0.552813</td>\n",
       "      <td>0.496276</td>\n",
       "      <td>0.385910</td>\n",
       "      <td>0.573279</td>\n",
       "      <td>...</td>\n",
       "      <td>0.513229</td>\n",
       "      <td>0.392583</td>\n",
       "      <td>0.394530</td>\n",
       "      <td>0.390676</td>\n",
       "      <td>0.479528</td>\n",
       "      <td>0.462170</td>\n",
       "      <td>0.496940</td>\n",
       "      <td>0.522308</td>\n",
       "      <td>0.509671</td>\n",
       "      <td>0.531018</td>\n",
       "    </tr>\n",
       "    <tr>\n",
       "      <td>5</td>\n",
       "      <td>01C1007</td>\n",
       "      <td>01C</td>\n",
       "      <td>0.392908</td>\n",
       "      <td>0.391836</td>\n",
       "      <td>0.393986</td>\n",
       "      <td>0.496299</td>\n",
       "      <td>0.491798</td>\n",
       "      <td>0.500390</td>\n",
       "      <td>0.398392</td>\n",
       "      <td>0.600066</td>\n",
       "      <td>...</td>\n",
       "      <td>0.500378</td>\n",
       "      <td>0.439233</td>\n",
       "      <td>0.443051</td>\n",
       "      <td>0.435495</td>\n",
       "      <td>0.510986</td>\n",
       "      <td>0.517286</td>\n",
       "      <td>0.504667</td>\n",
       "      <td>0.480122</td>\n",
       "      <td>0.483801</td>\n",
       "      <td>0.477587</td>\n",
       "    </tr>\n",
       "    <tr>\n",
       "      <td>6</td>\n",
       "      <td>01C1008</td>\n",
       "      <td>01C</td>\n",
       "      <td>0.400647</td>\n",
       "      <td>0.418117</td>\n",
       "      <td>0.383076</td>\n",
       "      <td>0.516960</td>\n",
       "      <td>0.521605</td>\n",
       "      <td>0.512737</td>\n",
       "      <td>0.395807</td>\n",
       "      <td>0.568305</td>\n",
       "      <td>...</td>\n",
       "      <td>0.441353</td>\n",
       "      <td>0.464518</td>\n",
       "      <td>0.484190</td>\n",
       "      <td>0.445258</td>\n",
       "      <td>0.534613</td>\n",
       "      <td>0.539903</td>\n",
       "      <td>0.529307</td>\n",
       "      <td>0.472451</td>\n",
       "      <td>0.480816</td>\n",
       "      <td>0.466686</td>\n",
       "    </tr>\n",
       "  </tbody>\n",
       "</table>\n",
       "<p>5 rows × 65 columns</p>\n",
       "</div>"
      ],
      "text/plain": [
       "   Subject Site       ACR     ACR_L     ACR_R      ALIC    ALIC_L    ALIC_R  \\\n",
       "0  01C1002  01C  0.421535  0.427883  0.415151  0.495298  0.495686  0.494945   \n",
       "2  01C1004  01C  0.388699  0.390224  0.387165  0.496039  0.496829  0.495321   \n",
       "4  01C1005  01C  0.395450  0.410520  0.380294  0.523197  0.552813  0.496276   \n",
       "5  01C1007  01C  0.392908  0.391836  0.393986  0.496299  0.491798  0.500390   \n",
       "6  01C1008  01C  0.400647  0.418117  0.383076  0.516960  0.521605  0.512737   \n",
       "\n",
       "   AverageFA       BCC  ...     SFO_R       SLF     SLF_L     SLF_R        SS  \\\n",
       "0   0.397502  0.620890  ...  0.476859  0.469410  0.469358  0.469460  0.530773   \n",
       "2   0.385812  0.596337  ...  0.429183  0.476475  0.489240  0.463976  0.512492   \n",
       "4   0.385910  0.573279  ...  0.513229  0.392583  0.394530  0.390676  0.479528   \n",
       "5   0.398392  0.600066  ...  0.500378  0.439233  0.443051  0.435495  0.510986   \n",
       "6   0.395807  0.568305  ...  0.441353  0.464518  0.484190  0.445258  0.534613   \n",
       "\n",
       "       SS_L      SS_R       UNC     UNC_L     UNC_R  \n",
       "0  0.534281  0.527254  0.538239  0.521629  0.549687  \n",
       "2  0.517208  0.507762  0.466360  0.446216  0.480243  \n",
       "4  0.462170  0.496940  0.522308  0.509671  0.531018  \n",
       "5  0.517286  0.504667  0.480122  0.483801  0.477587  \n",
       "6  0.539903  0.529307  0.472451  0.480816  0.466686  \n",
       "\n",
       "[5 rows x 65 columns]"
      ]
     },
     "execution_count": 31,
     "metadata": {},
     "output_type": "execute_result"
    }
   ],
   "source": [
    "def load_diffusion_data():\n",
    "\n",
    "    # read diffusion data\n",
    "    img=pd.read_excel(datapath+'Imaging/CENC_8Mar20-Diffusion_No_Harmonization.xlsx', sheet_name='FA')\n",
    "    img.rename(columns={\"subjectID\":\"Subject\", \"FX/ST-R\":\"FX_ST_R\", \"FX/ST-L\":\"FX_ST_L\"}, inplace=True)\n",
    "\n",
    "    # subset data by timepoint\n",
    "    baseline_bool=['ses-1' in x for x in img[\"Subject\"]]\n",
    "    img=img[baseline_bool]\n",
    "\n",
    "    # format subject id\n",
    "    img[\"Subject\"]=img[\"Subject\"].str.slice(start=4, stop=11)\n",
    "    \n",
    "    # add site id\n",
    "    site=img[\"Subject\"].str.slice(start=0, stop=3)\n",
    "    img.insert(loc=1, column=\"Site\", value=site.values)\n",
    "    \n",
    "    # format invalid column names\n",
    "    img.columns = img.columns.str.replace(\"-\", \"_\")\n",
    "    \n",
    "    return img\n",
    "\n",
    "diffusion_data=load_diffusion_data()\n",
    "diffusion_data.head()"
   ]
  },
  {
   "cell_type": "code",
   "execution_count": 32,
   "metadata": {},
   "outputs": [
    {
     "data": {
      "text/html": [
       "<div>\n",
       "<style scoped>\n",
       "    .dataframe tbody tr th:only-of-type {\n",
       "        vertical-align: middle;\n",
       "    }\n",
       "\n",
       "    .dataframe tbody tr th {\n",
       "        vertical-align: top;\n",
       "    }\n",
       "\n",
       "    .dataframe thead th {\n",
       "        text-align: right;\n",
       "    }\n",
       "</style>\n",
       "<table border=\"1\" class=\"dataframe\">\n",
       "  <thead>\n",
       "    <tr style=\"text-align: right;\">\n",
       "      <th></th>\n",
       "      <th>Subject</th>\n",
       "      <th>Site</th>\n",
       "      <th>Left_Lateral_Ventricle</th>\n",
       "      <th>Left_Inf_Lat_Vent</th>\n",
       "      <th>Left_Cerebellum_White_Matter</th>\n",
       "      <th>Left_Cerebellum_Cortex</th>\n",
       "      <th>Left_Thalamus_Proper</th>\n",
       "      <th>Left_Caudate</th>\n",
       "      <th>Left_Putamen</th>\n",
       "      <th>Left_Pallidum</th>\n",
       "      <th>...</th>\n",
       "      <th>rh_rostralmiddlefrontal_thickness</th>\n",
       "      <th>rh_superiorfrontal_thickness</th>\n",
       "      <th>rh_superiorparietal_thickness</th>\n",
       "      <th>rh_superiortemporal_thickness</th>\n",
       "      <th>rh_supramarginal_thickness</th>\n",
       "      <th>rh_frontalpole_thickness</th>\n",
       "      <th>rh_temporalpole_thickness</th>\n",
       "      <th>rh_transversetemporal_thickness</th>\n",
       "      <th>rh_insula_thickness</th>\n",
       "      <th>rh_MeanThickness_thickness</th>\n",
       "    </tr>\n",
       "  </thead>\n",
       "  <tbody>\n",
       "    <tr>\n",
       "      <td>0</td>\n",
       "      <td>01C1002</td>\n",
       "      <td>01C</td>\n",
       "      <td>5775.6</td>\n",
       "      <td>131.7</td>\n",
       "      <td>18118.1</td>\n",
       "      <td>52993.6</td>\n",
       "      <td>7361.2</td>\n",
       "      <td>3176.5</td>\n",
       "      <td>4276.2</td>\n",
       "      <td>2011.0</td>\n",
       "      <td>...</td>\n",
       "      <td>2.816</td>\n",
       "      <td>3.013</td>\n",
       "      <td>2.582</td>\n",
       "      <td>3.035</td>\n",
       "      <td>2.845</td>\n",
       "      <td>3.580</td>\n",
       "      <td>4.174</td>\n",
       "      <td>2.580</td>\n",
       "      <td>3.083</td>\n",
       "      <td>2.78506</td>\n",
       "    </tr>\n",
       "    <tr>\n",
       "      <td>1</td>\n",
       "      <td>01C1004</td>\n",
       "      <td>01C</td>\n",
       "      <td>11056.9</td>\n",
       "      <td>200.4</td>\n",
       "      <td>14259.8</td>\n",
       "      <td>55966.4</td>\n",
       "      <td>7812.0</td>\n",
       "      <td>3468.9</td>\n",
       "      <td>5251.1</td>\n",
       "      <td>2422.1</td>\n",
       "      <td>...</td>\n",
       "      <td>2.646</td>\n",
       "      <td>2.921</td>\n",
       "      <td>2.473</td>\n",
       "      <td>2.796</td>\n",
       "      <td>2.676</td>\n",
       "      <td>3.580</td>\n",
       "      <td>4.205</td>\n",
       "      <td>2.532</td>\n",
       "      <td>3.192</td>\n",
       "      <td>2.69372</td>\n",
       "    </tr>\n",
       "    <tr>\n",
       "      <td>2</td>\n",
       "      <td>01C1005</td>\n",
       "      <td>01C</td>\n",
       "      <td>10218.4</td>\n",
       "      <td>188.8</td>\n",
       "      <td>15942.4</td>\n",
       "      <td>55503.0</td>\n",
       "      <td>7802.9</td>\n",
       "      <td>3035.0</td>\n",
       "      <td>5214.3</td>\n",
       "      <td>2081.1</td>\n",
       "      <td>...</td>\n",
       "      <td>2.593</td>\n",
       "      <td>2.776</td>\n",
       "      <td>2.287</td>\n",
       "      <td>2.725</td>\n",
       "      <td>2.762</td>\n",
       "      <td>2.597</td>\n",
       "      <td>4.148</td>\n",
       "      <td>2.468</td>\n",
       "      <td>2.943</td>\n",
       "      <td>2.59772</td>\n",
       "    </tr>\n",
       "    <tr>\n",
       "      <td>3</td>\n",
       "      <td>01C1007</td>\n",
       "      <td>01C</td>\n",
       "      <td>6004.0</td>\n",
       "      <td>186.9</td>\n",
       "      <td>16007.0</td>\n",
       "      <td>56573.5</td>\n",
       "      <td>7611.7</td>\n",
       "      <td>3504.5</td>\n",
       "      <td>5108.7</td>\n",
       "      <td>2381.7</td>\n",
       "      <td>...</td>\n",
       "      <td>2.705</td>\n",
       "      <td>2.801</td>\n",
       "      <td>2.198</td>\n",
       "      <td>2.832</td>\n",
       "      <td>2.415</td>\n",
       "      <td>3.060</td>\n",
       "      <td>4.239</td>\n",
       "      <td>2.096</td>\n",
       "      <td>3.141</td>\n",
       "      <td>2.54558</td>\n",
       "    </tr>\n",
       "    <tr>\n",
       "      <td>4</td>\n",
       "      <td>01C1008</td>\n",
       "      <td>01C</td>\n",
       "      <td>6361.0</td>\n",
       "      <td>219.3</td>\n",
       "      <td>15007.1</td>\n",
       "      <td>53163.7</td>\n",
       "      <td>8195.8</td>\n",
       "      <td>3762.1</td>\n",
       "      <td>5734.7</td>\n",
       "      <td>2260.0</td>\n",
       "      <td>...</td>\n",
       "      <td>2.511</td>\n",
       "      <td>2.863</td>\n",
       "      <td>2.507</td>\n",
       "      <td>3.081</td>\n",
       "      <td>2.673</td>\n",
       "      <td>2.833</td>\n",
       "      <td>4.020</td>\n",
       "      <td>2.646</td>\n",
       "      <td>3.213</td>\n",
       "      <td>2.67540</td>\n",
       "    </tr>\n",
       "  </tbody>\n",
       "</table>\n",
       "<p>5 rows × 111 columns</p>\n",
       "</div>"
      ],
      "text/plain": [
       "   Subject Site  Left_Lateral_Ventricle  Left_Inf_Lat_Vent  \\\n",
       "0  01C1002  01C                  5775.6              131.7   \n",
       "1  01C1004  01C                 11056.9              200.4   \n",
       "2  01C1005  01C                 10218.4              188.8   \n",
       "3  01C1007  01C                  6004.0              186.9   \n",
       "4  01C1008  01C                  6361.0              219.3   \n",
       "\n",
       "   Left_Cerebellum_White_Matter  Left_Cerebellum_Cortex  Left_Thalamus_Proper  \\\n",
       "0                       18118.1                 52993.6                7361.2   \n",
       "1                       14259.8                 55966.4                7812.0   \n",
       "2                       15942.4                 55503.0                7802.9   \n",
       "3                       16007.0                 56573.5                7611.7   \n",
       "4                       15007.1                 53163.7                8195.8   \n",
       "\n",
       "   Left_Caudate  Left_Putamen  Left_Pallidum  ...  \\\n",
       "0        3176.5        4276.2         2011.0  ...   \n",
       "1        3468.9        5251.1         2422.1  ...   \n",
       "2        3035.0        5214.3         2081.1  ...   \n",
       "3        3504.5        5108.7         2381.7  ...   \n",
       "4        3762.1        5734.7         2260.0  ...   \n",
       "\n",
       "   rh_rostralmiddlefrontal_thickness  rh_superiorfrontal_thickness  \\\n",
       "0                              2.816                         3.013   \n",
       "1                              2.646                         2.921   \n",
       "2                              2.593                         2.776   \n",
       "3                              2.705                         2.801   \n",
       "4                              2.511                         2.863   \n",
       "\n",
       "   rh_superiorparietal_thickness  rh_superiortemporal_thickness  \\\n",
       "0                          2.582                          3.035   \n",
       "1                          2.473                          2.796   \n",
       "2                          2.287                          2.725   \n",
       "3                          2.198                          2.832   \n",
       "4                          2.507                          3.081   \n",
       "\n",
       "   rh_supramarginal_thickness  rh_frontalpole_thickness  \\\n",
       "0                       2.845                     3.580   \n",
       "1                       2.676                     3.580   \n",
       "2                       2.762                     2.597   \n",
       "3                       2.415                     3.060   \n",
       "4                       2.673                     2.833   \n",
       "\n",
       "   rh_temporalpole_thickness  rh_transversetemporal_thickness  \\\n",
       "0                      4.174                            2.580   \n",
       "1                      4.205                            2.532   \n",
       "2                      4.148                            2.468   \n",
       "3                      4.239                            2.096   \n",
       "4                      4.020                            2.646   \n",
       "\n",
       "   rh_insula_thickness  rh_MeanThickness_thickness  \n",
       "0                3.083                     2.78506  \n",
       "1                3.192                     2.69372  \n",
       "2                2.943                     2.59772  \n",
       "3                3.141                     2.54558  \n",
       "4                3.213                     2.67540  \n",
       "\n",
       "[5 rows x 111 columns]"
      ]
     },
     "execution_count": 32,
     "metadata": {},
     "output_type": "execute_result"
    }
   ],
   "source": [
    "def load_volumetric_data():\n",
    "\n",
    "    # read subcortical aseg data\n",
    "    img=pd.read_csv(datapath+'Imaging/aseg-volume-stats.csv')\n",
    "    img.rename(columns={\"Measure:volume\":\"Subject\"}, inplace=True)\n",
    "\n",
    "    # subset data by timepoint\n",
    "    baseline_bool=['ses-1' in x for x in img[\"Subject\"]]\n",
    "    img=img[baseline_bool]\n",
    "\n",
    "    # format subject id\n",
    "    img[\"Subject\"]=img[\"Subject\"].str.slice(start=4, stop=11)\n",
    "    \n",
    "    # add site id\n",
    "    site=img[\"Subject\"].str.slice(start=0, stop=3)\n",
    "    img.insert(loc=1, column=\"Site\", value=site.values)\n",
    "    \n",
    "    # format invalid column names\n",
    "    img.columns = img.columns.str.replace(\"-\", \"_\")\n",
    "    \n",
    "    img.drop(['3rd_Ventricle', '4th_Ventricle', 'CSF', 'Left_vessel', 'Right_vessel', \n",
    "             '5th_Ventricle', 'Optic_Chiasm', 'BrainSegVol', 'BrainSegVolNotVent',\n",
    "             'BrainSegVolNotVentSurf', 'lhCortexVol', 'rhCortexVol', 'CortexVol',\n",
    "             'lhCerebralWhiteMatterVol', 'rhCerebralWhiteMatterVol', 'CerebralWhiteMatterVol',\n",
    "             'SubCortGrayVol', 'TotalGrayVol', 'SupraTentorialVol', 'SupraTentorialVolNotVent',\n",
    "             'SupraTentorialVolNotVentVox', 'MaskVol', 'BrainSegVol_to_eTIV', 'MaskVol_to_eTIV',\n",
    "             'lhSurfaceHoles', 'rhSurfaceHoles', 'SurfaceHoles'], \n",
    "             axis=1,\n",
    "            inplace=True)\n",
    "    \n",
    "    # read cortical aseg data\n",
    "    ct_l=pd.read_csv(datapath+'Imaging/aparc-thickness-lh-stats.csv')\n",
    "    ct_r=pd.read_csv(datapath+'Imaging/aparc-thickness-rh-stats.csv')\n",
    "    \n",
    "    ct_l.rename(columns={\"lh.aparc.thickness\":\"Subject\"}, inplace=True)\n",
    "    ct_r.rename(columns={\"rh.aparc.thickness\":\"Subject\"}, inplace=True)\n",
    "    \n",
    "    # subset data by timepoint\n",
    "    baseline_bool_ct_l=['ses-1' in x for x in ct_l[\"Subject\"]]\n",
    "    baseline_bool_ct_r=['ses-1' in x for x in ct_r[\"Subject\"]]\n",
    "    ct_l=ct_l[baseline_bool_ct_l]\n",
    "    ct_r=ct_r[baseline_bool_ct_r]\n",
    "    \n",
    "    # format subject id\n",
    "    ct_l[\"Subject\"]=ct_l[\"Subject\"].str.slice(start=4, stop=11)\n",
    "    ct_r[\"Subject\"]=ct_r[\"Subject\"].str.slice(start=4, stop=11)\n",
    "    \n",
    "    # add site id\n",
    "    site_ct_l=ct_l[\"Subject\"].str.slice(start=0, stop=3)\n",
    "    #ct_l.insert(loc=1, column=\"Site\", value=site_ct_l.values)\n",
    "    \n",
    "    site_ct_r=ct_r[\"Subject\"].str.slice(start=0, stop=3)\n",
    "    #ct_r.insert(loc=1, column=\"Site\", value=site_ct_r.values)\n",
    "    \n",
    "    ct_l.drop([\"BrainSegVolNotVent\", \"eTIV\"], axis=1, inplace=True)\n",
    "    ct_r.drop([\"BrainSegVolNotVent\", \"eTIV\"], axis=1, inplace=True)\n",
    "    \n",
    "    img=pd.merge(img, ct_l, on='Subject')\n",
    "    img=pd.merge(img, ct_r, on='Subject')\n",
    "    \n",
    "    return img\n",
    "\n",
    "volumetric_data=load_volumetric_data()\n",
    "volumetric_data.head()"
   ]
  },
  {
   "cell_type": "markdown",
   "metadata": {},
   "source": [
    "### Data harmonization"
   ]
  },
  {
   "cell_type": "code",
   "execution_count": 33,
   "metadata": {},
   "outputs": [],
   "source": [
    "def apply_combat(data):\n",
    "    cov=pd.DataFrame({\"Site\": data[\"Site\"].values})\n",
    "    subj=data[[\"Subject\"]]\n",
    "    data=data.loc[:,data.apply(pd.Series.nunique) != 1] # drop constant columns\n",
    "    colnames=data.columns # save column names\n",
    "    dth=data.drop([\"Subject\", \"Site\"], axis=1).transpose()\n",
    "    harmonized_data=combat.neuroCombat(dat=dth, covars=cov, batch_col=\"Site\")\n",
    "    harmonized_data=harmonized_data.transpose()\n",
    "    harmonized_data=pd.DataFrame(harmonized_data)\n",
    "    harmonized_data.insert(loc=0, column=\"Subject\", value=subj.values)\n",
    "    harmonized_data.insert(loc=1, column=\"Site\", value=cov.values)\n",
    "    harmonized_data.columns=colnames\n",
    "    return harmonized_data"
   ]
  },
  {
   "cell_type": "code",
   "execution_count": 34,
   "metadata": {},
   "outputs": [
    {
     "name": "stdout",
     "output_type": "stream",
     "text": [
      "[neuroCombat] Creating design matrix\n",
      "[neuroCombat] Standardizing data across features\n",
      "[neuroCombat] Fitting L/S model and finding priors\n",
      "[neuroCombat] Finding parametric adjustments\n",
      "[neuroCombat] Final adjustment of data\n",
      "[neuroCombat] Creating design matrix\n",
      "[neuroCombat] Standardizing data across features\n",
      "[neuroCombat] Fitting L/S model and finding priors\n",
      "[neuroCombat] Finding parametric adjustments\n",
      "[neuroCombat] Final adjustment of data\n"
     ]
    }
   ],
   "source": [
    "volumetric_data_harmonized=apply_combat(data=volumetric_data)\n",
    "diffusion_data_harmonized=apply_combat(data=diffusion_data)"
   ]
  },
  {
   "cell_type": "code",
   "execution_count": 36,
   "metadata": {},
   "outputs": [
    {
     "name": "stdout",
     "output_type": "stream",
     "text": [
      "Index(['Subject', 'Site', 'ACR', 'ACR_L', 'ACR_R', 'ALIC', 'ALIC_L', 'ALIC_R',\n",
      "       'AverageFA', 'BCC', 'CC', 'CGC', 'CGC_L', 'CGC_R', 'CGH', 'CGH_L',\n",
      "       'CGH_R', 'CR', 'CR_L', 'CR_R', 'CST', 'CST_L', 'CST_R', 'EC', 'EC_L',\n",
      "       'EC_R', 'FX', 'FX_ST_L', 'FX_ST_R', 'FXST', 'GCC', 'IC', 'IC_L', 'IC_R',\n",
      "       'IFO', 'IFO_L', 'IFO_R', 'PCR', 'PCR_L', 'PCR_R', 'PLIC', 'PLIC_L',\n",
      "       'PLIC_R', 'PTR', 'PTR_L', 'PTR_R', 'RLIC', 'RLIC_L', 'RLIC_R', 'SCC',\n",
      "       'SCR', 'SCR_L', 'SCR_R', 'SFO', 'SFO_L', 'SFO_R', 'SLF', 'SLF_L',\n",
      "       'SLF_R', 'SS', 'SS_L', 'SS_R', 'UNC', 'UNC_L', 'UNC_R'],\n",
      "      dtype='object')\n"
     ]
    },
    {
     "data": {
      "text/plain": [
       "<matplotlib.axes._subplots.AxesSubplot at 0x1a1e126b10>"
      ]
     },
     "execution_count": 36,
     "metadata": {},
     "output_type": "execute_result"
    },
    {
     "data": {
      "image/png": "[encoded data removed]",
      "text/plain": [
       "<Figure size 432x288 with 2 Axes>"
      ]
     },
     "metadata": {},
     "output_type": "display_data"
    }
   ],
   "source": [
    "print(diffusion_data.columns)\n",
    "roi=\"AverageFA\"\n",
    "fig, (ax1, ax2) = plt.subplots(ncols=2, sharey=True)\n",
    "sns.boxplot(x=\"Site\", y=roi, data=diffusion_data_harmonized, ax=ax1)\n",
    "sns.boxplot(x=\"Site\", y=roi, data=diffusion_data, ax=ax2)"
   ]
  },
  {
   "cell_type": "markdown",
   "metadata": {},
   "source": [
    "### Merge With Clinical Data"
   ]
  },
  {
   "cell_type": "code",
   "execution_count": 37,
   "metadata": {},
   "outputs": [
    {
     "data": {
      "text/html": [
       "<div>\n",
       "<style scoped>\n",
       "    .dataframe tbody tr th:only-of-type {\n",
       "        vertical-align: middle;\n",
       "    }\n",
       "\n",
       "    .dataframe tbody tr th {\n",
       "        vertical-align: top;\n",
       "    }\n",
       "\n",
       "    .dataframe thead th {\n",
       "        text-align: right;\n",
       "    }\n",
       "</style>\n",
       "<table border=\"1\" class=\"dataframe\">\n",
       "  <thead>\n",
       "    <tr style=\"text-align: right;\">\n",
       "      <th></th>\n",
       "      <th>Subject</th>\n",
       "      <th>GPBNONDOMHANDTIME</th>\n",
       "      <th>STUDYGROUP</th>\n",
       "      <th>TBI_FLAG</th>\n",
       "      <th>GENDERTYP_STD</th>\n",
       "      <th>DEMOGAGEYEARS</th>\n",
       "      <th>TimeSinceIndexYears</th>\n",
       "    </tr>\n",
       "  </thead>\n",
       "  <tbody>\n",
       "    <tr>\n",
       "      <td>0</td>\n",
       "      <td>01C1002</td>\n",
       "      <td>58.0</td>\n",
       "      <td>Combat mTBI ONLY</td>\n",
       "      <td>1</td>\n",
       "      <td>2.0</td>\n",
       "      <td>47.0</td>\n",
       "      <td>12.063014</td>\n",
       "    </tr>\n",
       "    <tr>\n",
       "      <td>1</td>\n",
       "      <td>01C1003</td>\n",
       "      <td>85.0</td>\n",
       "      <td>Combat mTBI ONLY</td>\n",
       "      <td>1</td>\n",
       "      <td>1.0</td>\n",
       "      <td>42.0</td>\n",
       "      <td>11.556164</td>\n",
       "    </tr>\n",
       "    <tr>\n",
       "      <td>2</td>\n",
       "      <td>01C1004</td>\n",
       "      <td>73.0</td>\n",
       "      <td>Combat mTBI PLUS Non-combat mTBI</td>\n",
       "      <td>1</td>\n",
       "      <td>1.0</td>\n",
       "      <td>33.0</td>\n",
       "      <td>9.282192</td>\n",
       "    </tr>\n",
       "    <tr>\n",
       "      <td>3</td>\n",
       "      <td>01C1005</td>\n",
       "      <td>90.0</td>\n",
       "      <td>Combat mTBI PLUS Non-combat mTBI</td>\n",
       "      <td>1</td>\n",
       "      <td>1.0</td>\n",
       "      <td>43.0</td>\n",
       "      <td>4.704110</td>\n",
       "    </tr>\n",
       "    <tr>\n",
       "      <td>4</td>\n",
       "      <td>01C1007</td>\n",
       "      <td>97.0</td>\n",
       "      <td>Combat mTBI PLUS Non-combat mTBI</td>\n",
       "      <td>1</td>\n",
       "      <td>1.0</td>\n",
       "      <td>58.0</td>\n",
       "      <td>5.660274</td>\n",
       "    </tr>\n",
       "  </tbody>\n",
       "</table>\n",
       "</div>"
      ],
      "text/plain": [
       "   Subject  GPBNONDOMHANDTIME                        STUDYGROUP  TBI_FLAG  \\\n",
       "0  01C1002               58.0                  Combat mTBI ONLY         1   \n",
       "1  01C1003               85.0                  Combat mTBI ONLY         1   \n",
       "2  01C1004               73.0  Combat mTBI PLUS Non-combat mTBI         1   \n",
       "3  01C1005               90.0  Combat mTBI PLUS Non-combat mTBI         1   \n",
       "4  01C1007               97.0  Combat mTBI PLUS Non-combat mTBI         1   \n",
       "\n",
       "   GENDERTYP_STD  DEMOGAGEYEARS  TimeSinceIndexYears  \n",
       "0            2.0           47.0            12.063014  \n",
       "1            1.0           42.0            11.556164  \n",
       "2            1.0           33.0             9.282192  \n",
       "3            1.0           43.0             4.704110  \n",
       "4            1.0           58.0             5.660274  "
      ]
     },
     "execution_count": 37,
     "metadata": {},
     "output_type": "execute_result"
    }
   ],
   "source": [
    "def load_dem_clin_data(y):\n",
    "    '''Set y to outcome of interest: GPBDOMHANDTIME or GPBNONDOMHANDTIME'''\n",
    "\n",
    "    # get gpb data & relevant demographics\n",
    "    gpb=pd.read_excel(datapath+'DavidTateData.xlsx', sheet_name='SubjectLevelDataset')\n",
    "    \n",
    "    # subset clinical/demographic data\n",
    "    gpb_red=gpb[[\"Subject\", y, \"STUDYGROUP\",\"TBI_FLAG\",\"GENDERTYP_STD\",\"DEMOGAGEYEARS\", \"GPBRELCD\"]]\n",
    "    #gpb_red[\"Site\"]=gpb_red[\"Subject\"].str.slice(stop=2)\n",
    "\n",
    "    # Filter GPB by reliability\n",
    "    gpb_rel_bool=[x < 3 for x in gpb_red['GPBRELCD']]\n",
    "    gpb_red=gpb_red[gpb_rel_bool]\n",
    "    gpb_red.drop([\"GPBRELCD\"], axis=1, inplace=True)\n",
    "    \n",
    "    # Remove NA outcomes\n",
    "    #y_bool=gpb_red[[y]].isnull()\n",
    "    y_bool=[x==False for x in gpb_red[y].isnull()]\n",
    "    gpb_red=gpb_red[y_bool]\n",
    "    \n",
    "    # get time since injury\n",
    "    tsi=pd.read_excel(datapath+'TimeSinceIndex PLus Other TimeSince Variables_Baseline_07-09.xlsx')\n",
    "    tsi.rename(columns={\"SubjectID\":\"Subject\"}, inplace=True)\n",
    "    tsi_red=tsi[[\"Subject\",\"TimeSinceIndexYears\"]]\n",
    "    \n",
    "    gpb_return=pd.merge(gpb_red, tsi_red, on=\"Subject\")\n",
    "    \n",
    "    return gpb_return\n",
    "\n",
    "gpb=load_dem_clin_data(y=y_name)    \n",
    "gpb.head()"
   ]
  },
  {
   "cell_type": "code",
   "execution_count": 38,
   "metadata": {},
   "outputs": [
    {
     "name": "stdout",
     "output_type": "stream",
     "text": [
      "---Raw Data---\n",
      "(1025, 71)\n",
      "(970, 117)\n",
      "---Harmonized Data---\n",
      "(1025, 71)\n",
      "(970, 113)\n"
     ]
    }
   ],
   "source": [
    "# Combine clinical/demographic data with imaging data types separately because of size mismatches\n",
    "df_diffusion=pd.merge(gpb, diffusion_data, on='Subject')\n",
    "df_volumetric=pd.merge(gpb, volumetric_data, on='Subject')\n",
    "df_diffusion_harm=pd.merge(gpb, diffusion_data_harmonized, on='Subject')\n",
    "df_volumetric_harm=pd.merge(gpb, volumetric_data_harmonized, on='Subject')\n",
    "print('---Raw Data---')\n",
    "print(df_diffusion.shape)\n",
    "print(df_volumetric.shape)\n",
    "print('---Harmonized Data---')\n",
    "print(df_diffusion_harm.shape)\n",
    "print(df_volumetric_harm.shape)"
   ]
  },
  {
   "cell_type": "markdown",
   "metadata": {},
   "source": [
    "# Data Summary"
   ]
  },
  {
   "cell_type": "code",
   "execution_count": 39,
   "metadata": {},
   "outputs": [
    {
     "name": "stdout",
     "output_type": "stream",
     "text": [
      "(1025, 71)\n",
      "Index(['Subject', 'GPBNONDOMHANDTIME', 'STUDYGROUP', 'TBI_FLAG',\n",
      "       'GENDERTYP_STD', 'DEMOGAGEYEARS', 'TimeSinceIndexYears', 'Site', 'ACR',\n",
      "       'ACR_L', 'ACR_R', 'ALIC', 'ALIC_L', 'ALIC_R', 'AverageFA', 'BCC', 'CC',\n",
      "       'CGC', 'CGC_L', 'CGC_R', 'CGH', 'CGH_L', 'CGH_R', 'CR', 'CR_L', 'CR_R',\n",
      "       'CST', 'CST_L', 'CST_R', 'EC', 'EC_L', 'EC_R', 'FX', 'FX_ST_L',\n",
      "       'FX_ST_R', 'FXST', 'GCC', 'IC', 'IC_L', 'IC_R', 'IFO', 'IFO_L', 'IFO_R',\n",
      "       'PCR', 'PCR_L', 'PCR_R', 'PLIC', 'PLIC_L', 'PLIC_R', 'PTR', 'PTR_L',\n",
      "       'PTR_R', 'RLIC', 'RLIC_L', 'RLIC_R', 'SCC', 'SCR', 'SCR_L', 'SCR_R',\n",
      "       'SFO', 'SFO_L', 'SFO_R', 'SLF', 'SLF_L', 'SLF_R', 'SS', 'SS_L', 'SS_R',\n",
      "       'UNC', 'UNC_L', 'UNC_R'],\n",
      "      dtype='object')\n"
     ]
    }
   ],
   "source": [
    "df=df_diffusion\n",
    "print(df.shape)\n",
    "print(df.columns)"
   ]
  },
  {
   "cell_type": "code",
   "execution_count": 40,
   "metadata": {},
   "outputs": [
    {
     "data": {
      "text/html": [
       "<div>\n",
       "<style scoped>\n",
       "    .dataframe tbody tr th:only-of-type {\n",
       "        vertical-align: middle;\n",
       "    }\n",
       "\n",
       "    .dataframe tbody tr th {\n",
       "        vertical-align: top;\n",
       "    }\n",
       "\n",
       "    .dataframe thead tr th {\n",
       "        text-align: left;\n",
       "    }\n",
       "\n",
       "    .dataframe thead tr:last-of-type th {\n",
       "        text-align: right;\n",
       "    }\n",
       "</style>\n",
       "<table border=\"1\" class=\"dataframe\">\n",
       "  <thead>\n",
       "    <tr>\n",
       "      <th></th>\n",
       "      <th colspan=\"2\" halign=\"left\">DEMOGAGEYEARS</th>\n",
       "      <th>GENDERTYP_STD</th>\n",
       "      <th colspan=\"2\" halign=\"left\">GPBNONDOMHANDTIME</th>\n",
       "      <th colspan=\"2\" halign=\"left\">TimeSinceIndexYears</th>\n",
       "    </tr>\n",
       "    <tr>\n",
       "      <th></th>\n",
       "      <th>mean</th>\n",
       "      <th>std</th>\n",
       "      <th>&lt;lambda&gt;</th>\n",
       "      <th>mean</th>\n",
       "      <th>std</th>\n",
       "      <th>mean</th>\n",
       "      <th>std</th>\n",
       "    </tr>\n",
       "    <tr>\n",
       "      <th>TBI_FLAG</th>\n",
       "      <th></th>\n",
       "      <th></th>\n",
       "      <th></th>\n",
       "      <th></th>\n",
       "      <th></th>\n",
       "      <th></th>\n",
       "      <th></th>\n",
       "    </tr>\n",
       "  </thead>\n",
       "  <tbody>\n",
       "    <tr>\n",
       "      <td>0</td>\n",
       "      <td>39.721053</td>\n",
       "      <td>10.380643</td>\n",
       "      <td>151.0</td>\n",
       "      <td>74.894737</td>\n",
       "      <td>14.665205</td>\n",
       "      <td>10.102841</td>\n",
       "      <td>5.236646</td>\n",
       "    </tr>\n",
       "    <tr>\n",
       "      <td>1</td>\n",
       "      <td>39.996403</td>\n",
       "      <td>9.669632</td>\n",
       "      <td>737.0</td>\n",
       "      <td>78.419162</td>\n",
       "      <td>16.689408</td>\n",
       "      <td>9.662075</td>\n",
       "      <td>4.636348</td>\n",
       "    </tr>\n",
       "  </tbody>\n",
       "</table>\n",
       "</div>"
      ],
      "text/plain": [
       "         DEMOGAGEYEARS            GENDERTYP_STD GPBNONDOMHANDTIME             \\\n",
       "                  mean        std      <lambda>              mean        std   \n",
       "TBI_FLAG                                                                       \n",
       "0            39.721053  10.380643         151.0         74.894737  14.665205   \n",
       "1            39.996403   9.669632         737.0         78.419162  16.689408   \n",
       "\n",
       "         TimeSinceIndexYears            \n",
       "                        mean       std  \n",
       "TBI_FLAG                                \n",
       "0                  10.102841  5.236646  \n",
       "1                   9.662075  4.636348  "
      ]
     },
     "execution_count": 40,
     "metadata": {},
     "output_type": "execute_result"
    }
   ],
   "source": [
    "df.pivot_table(values=['DEMOGAGEYEARS', 'GENDERTYP_STD', 'TimeSinceIndexYears', 'GPBNONDOMHANDTIME'], \n",
    "               index='TBI_FLAG', \n",
    "               aggfunc={'DEMOGAGEYEARS': [np.mean, np.std], \n",
    "                        'GENDERTYP_STD': lambda x: np.sum(x==1.0),\n",
    "                       'TimeSinceIndexYears': [np.mean, np.std],\n",
    "                       'GPBNONDOMHANDTIME': [np.mean, np.std]})"
   ]
  },
  {
   "cell_type": "markdown",
   "metadata": {},
   "source": [
    "# Regression Models"
   ]
  },
  {
   "cell_type": "code",
   "execution_count": 43,
   "metadata": {},
   "outputs": [],
   "source": [
    "# Function for group interaction models\n",
    "def lm_series_group_interaction(y, roi, data):    \n",
    "    modstring=\"{} ~ {}*TBI_FLAG + GENDERTYP_STD + DEMOGAGEYEARS + TimeSinceIndexYears + Site\".format(y, roi)\n",
    "    fitted=smf.ols(modstring, data=data).fit()    \n",
    "    slot=\"{}:TBI_FLAG\".format(roi)\n",
    "    return fitted.pvalues[slot]\n",
    "\n",
    "# Function for group interaction models\n",
    "def lm_series(y, roi, data):    \n",
    "    modstring=\"{} ~ {} + TBI_FLAG + GENDERTYP_STD + DEMOGAGEYEARS + TimeSinceIndexYears + Site\".format(y, roi)\n",
    "    fitted=smf.ols(modstring, data = data).fit()    \n",
    "    return fitted.pvalues[roi]\n",
    "\n",
    "# Function to report and plot regression results\n",
    "def which_significant(res, rois, y, data, interaction=False):\n",
    "    padj=mc(list(res.values()), method = \"fdr_bh\")\n",
    "    sig=list(compress(rois, padj[0]))\n",
    "    \n",
    "    for index, r in enumerate(rois):\n",
    "        if padj[1][index] <= 0.05:\n",
    "            print(\"ROI: {}; Post-hoc FDR: {:.4f}\".format(r, padj[1][index]))\n",
    "    \n",
    "    if len(sig)>0:        \n",
    "        column_list=sig.copy()\n",
    "        column_list.append(y)\n",
    "        column_list.append('TBI_FLAG')\n",
    "        m=data[column_list].melt(id_vars=[y, 'TBI_FLAG'])\n",
    "        g=sns.FacetGrid(m, col=\"variable\")\n",
    "        if interaction==False: \n",
    "            g.map(sns.regplot, 'value', y)\n",
    "        else:\n",
    "            print('Plotting Interaction')\n",
    "            g.map(sns.lmplot, 'value', y, hue='TBI_FLAG')\n",
    "    else: \n",
    "        print(\"No Significant Post-hoc Associations\")\n",
    "\n",
    "def discovery_validation_lm(data, split_prop, interaction, y_name):\n",
    "    X=data\n",
    "    y_stratification=X[\"Site\"]\n",
    "\n",
    "    X_discovery, X_validate, y_discovery, y_validate = train_test_split(X, y_stratification, test_size=split_prop, \n",
    "                                                                        random_state=0, stratify=y_stratification)\n",
    "    print('---- Discovery Data ----')\n",
    "    print(X_discovery.shape)\n",
    "    print('---- Validation Data ----')\n",
    "    print(X_validate.shape)\n",
    "    \n",
    "    \n",
    "    # Discovery phase\n",
    "    regions=[x for x in data.columns if x not in \n",
    "             [\"Subject\", y, \"STUDYGROUP\", \"TBI_FLAG\", \"GENDERTYP_STD\", \"DEMOGAGEYEARS\", \"TimeSinceIndexYears\", \"Site\"]]\n",
    "        \n",
    "    print(\"Outcome set to: {}\".format(y))\n",
    "    \n",
    "    if interaction==False:\n",
    "        \n",
    "        print('No Interaction Model')\n",
    "        results={}\n",
    "        for region in regions:\n",
    "            results[region]=lm_series(y=y_name, roi=region, data=X_discovery)\n",
    "        rois_discovery=[x for x in results.keys() if results[x] <= 0.05]\n",
    "        print(rois_discovery)\n",
    "\n",
    "        if len(rois_discovery)==0:\n",
    "            print('None significant in discovery')\n",
    "            return None\n",
    "\n",
    "        else:\n",
    "\n",
    "            # Validation phase\n",
    "            results_validate={}\n",
    "            for region in rois_discovery:\n",
    "                results_validate[region]=lm_series(y=y_name, roi=region, data=X_validate)\n",
    "\n",
    "            which_significant(res=results_validate, rois=rois_discovery, data=X_validate, y=y_name, interaction=interaction)\n",
    "\n",
    "            return results_validate\n",
    "    \n",
    "    else:\n",
    "        print('Interaction Model')\n",
    "        results_interaction={}\n",
    "        for region in regions:\n",
    "            results_interaction[region]=lm_series_group_interaction(y=y_name, roi=region, data=X_discovery)\n",
    "        rois_discovery=[x for x in results_interaction.keys() if results_interaction[x] <= 0.05]\n",
    "        print('rois significant in discovery:')\n",
    "        print(rois_discovery)\n",
    "        print('---------')\n",
    "        \n",
    "        if len(rois_discovery)==0:\n",
    "            print('None significant in discovery')\n",
    "            return None\n",
    "        \n",
    "        else:\n",
    "            \n",
    "            print('Validation phase')\n",
    "            results_validate={}\n",
    "            \n",
    "            for region in rois_discovery:\n",
    "                results_validate[region]=lm_series_group_interaction(y=y_name, roi=region, data=X_validate)\n",
    "            \n",
    "            print('Post-hoc tests')\n",
    "            posthoc=which_significant(res=results_validate, rois=rois_discovery, data=X_validate, y=y_name, interaction=interaction)\n",
    "            \n",
    "            results_dict={'Validation_ROIS': results_validate, 'Posthocs': posthoc}                    \n",
    "            \n",
    "            return results_dict\n",
    "\n"
   ]
  },
  {
   "cell_type": "markdown",
   "metadata": {},
   "source": [
    "### Models with no interaction"
   ]
  },
  {
   "cell_type": "code",
   "execution_count": 46,
   "metadata": {},
   "outputs": [
    {
     "name": "stdout",
     "output_type": "stream",
     "text": [
      "---- Discovery Data ----\n",
      "(512, 71)\n",
      "---- Validation Data ----\n",
      "(513, 71)\n",
      "Outcome set to: GPBNONDOMHANDTIME\n",
      "No Interaction Model\n",
      "['ACR', 'ACR_L', 'IFO_R', 'PCR', 'PCR_L', 'PCR_R', 'SLF_L']\n",
      "No Significant Post-hoc Associations\n"
     ]
    },
    {
     "data": {
      "text/plain": [
       "{'ACR': 0.13049080936433624,\n",
       " 'ACR_L': 0.1019516804665222,\n",
       " 'IFO_R': 0.21763837824423055,\n",
       " 'PCR': 0.01638681132278865,\n",
       " 'PCR_L': 0.06140486315642359,\n",
       " 'PCR_R': 0.012942811725549414,\n",
       " 'SLF_L': 0.027797761812267657}"
      ]
     },
     "execution_count": 46,
     "metadata": {},
     "output_type": "execute_result"
    }
   ],
   "source": [
    "discovery_validation_lm(data=df_diffusion, split_prop=0.5, interaction=False)"
   ]
  },
  {
   "cell_type": "code",
   "execution_count": 47,
   "metadata": {},
   "outputs": [
    {
     "name": "stdout",
     "output_type": "stream",
     "text": [
      "---- Discovery Data ----\n",
      "(512, 71)\n",
      "---- Validation Data ----\n",
      "(513, 71)\n",
      "Outcome set to: GPBNONDOMHANDTIME\n",
      "No Interaction Model\n",
      "['ACR', 'ACR_L', 'PCR', 'PCR_L', 'PCR_R', 'SLF_L']\n",
      "No Significant Post-hoc Associations\n"
     ]
    },
    {
     "data": {
      "text/plain": [
       "{'ACR': 0.11352350253493282,\n",
       " 'ACR_L': 0.07979504525879652,\n",
       " 'PCR': 0.0177234103040338,\n",
       " 'PCR_L': 0.05606265651887843,\n",
       " 'PCR_R': 0.01635692361962235,\n",
       " 'SLF_L': 0.035086421680340166}"
      ]
     },
     "execution_count": 47,
     "metadata": {},
     "output_type": "execute_result"
    }
   ],
   "source": [
    "discovery_validation_lm(data=df_diffusion_harm, split_prop=0.5, interaction=False)"
   ]
  },
  {
   "cell_type": "code",
   "execution_count": 48,
   "metadata": {},
   "outputs": [
    {
     "name": "stdout",
     "output_type": "stream",
     "text": [
      "---- Discovery Data ----\n",
      "(485, 117)\n",
      "---- Validation Data ----\n",
      "(485, 117)\n",
      "Outcome set to: GPBNONDOMHANDTIME\n",
      "No Interaction Model\n",
      "['rh_inferiorparietal_thickness']\n",
      "No Significant Post-hoc Associations\n"
     ]
    },
    {
     "data": {
      "text/plain": [
       "{'rh_inferiorparietal_thickness': 0.9356060759293233}"
      ]
     },
     "execution_count": 48,
     "metadata": {},
     "output_type": "execute_result"
    }
   ],
   "source": [
    "discovery_validation_lm(data=df_volumetric, split_prop=0.5, interaction=False)"
   ]
  },
  {
   "cell_type": "code",
   "execution_count": 49,
   "metadata": {},
   "outputs": [
    {
     "name": "stdout",
     "output_type": "stream",
     "text": [
      "---- Discovery Data ----\n",
      "(485, 113)\n",
      "---- Validation Data ----\n",
      "(485, 113)\n",
      "Outcome set to: GPBNONDOMHANDTIME\n",
      "No Interaction Model\n",
      "['rh_inferiorparietal_thickness']\n",
      "No Significant Post-hoc Associations\n"
     ]
    },
    {
     "data": {
      "text/plain": [
       "{'rh_inferiorparietal_thickness': 0.7927827219064758}"
      ]
     },
     "execution_count": 49,
     "metadata": {},
     "output_type": "execute_result"
    }
   ],
   "source": [
    "discovery_validation_lm(data=df_volumetric_harm, split_prop=0.5, interaction=False)"
   ]
  },
  {
   "cell_type": "markdown",
   "metadata": {},
   "source": [
    "### Models with TBI status interaction"
   ]
  },
  {
   "cell_type": "code",
   "execution_count": 51,
   "metadata": {},
   "outputs": [
    {
     "name": "stdout",
     "output_type": "stream",
     "text": [
      "---- Discovery Data ----\n",
      "(512, 71)\n",
      "---- Validation Data ----\n",
      "(513, 71)\n",
      "Outcome set to: GPBNONDOMHANDTIME\n",
      "Interaction Model\n",
      "rois significant in discovery:\n",
      "[]\n",
      "---------\n",
      "None significant in discovery\n"
     ]
    }
   ],
   "source": [
    "discovery_validation_lm(data=df_diffusion, split_prop=0.5, interaction=True)"
   ]
  },
  {
   "cell_type": "code",
   "execution_count": 52,
   "metadata": {},
   "outputs": [
    {
     "name": "stdout",
     "output_type": "stream",
     "text": [
      "---- Discovery Data ----\n",
      "(512, 71)\n",
      "---- Validation Data ----\n",
      "(513, 71)\n",
      "Outcome set to: GPBNONDOMHANDTIME\n",
      "Interaction Model\n",
      "rois significant in discovery:\n",
      "['ACR_R', 'ALIC_R', 'CR', 'CR_L', 'CR_R', 'IC', 'IC_R', 'PCR', 'PCR_L', 'PCR_R', 'PLIC', 'SCR', 'SCR_L', 'SCR_R', 'SLF_R']\n",
      "---------\n",
      "Validation phase\n",
      "Post-hoc tests\n",
      "No Significant Post-hoc Associations\n"
     ]
    },
    {
     "data": {
      "text/plain": [
       "{'Validation_ROIS': {'ACR_R': 0.6237844953650535,\n",
       "  'ALIC_R': 0.355700381012661,\n",
       "  'CR': 0.22935985771501463,\n",
       "  'CR_L': 0.16436924318911803,\n",
       "  'CR_R': 0.3529860140357728,\n",
       "  'IC': 0.14350919997503736,\n",
       "  'IC_R': 0.24012621588925126,\n",
       "  'PCR': 0.14144219932565671,\n",
       "  'PCR_L': 0.06546116354541967,\n",
       "  'PCR_R': 0.2962133757524346,\n",
       "  'PLIC': 0.17004745533778498,\n",
       "  'SCR': 0.2619564022877598,\n",
       "  'SCR_L': 0.24157895907049542,\n",
       "  'SCR_R': 0.3128946777314972,\n",
       "  'SLF_R': 0.10901695351523695},\n",
       " 'Posthocs': None}"
      ]
     },
     "execution_count": 52,
     "metadata": {},
     "output_type": "execute_result"
    }
   ],
   "source": [
    "discovery_validation_lm(data=df_diffusion_harm, split_prop=0.5, interaction=True)"
   ]
  },
  {
   "cell_type": "code",
   "execution_count": 53,
   "metadata": {},
   "outputs": [
    {
     "name": "stdout",
     "output_type": "stream",
     "text": [
      "---- Discovery Data ----\n",
      "(485, 117)\n",
      "---- Validation Data ----\n",
      "(485, 117)\n",
      "Outcome set to: GPBNONDOMHANDTIME\n",
      "Interaction Model\n",
      "rois significant in discovery:\n",
      "['Left_Cerebellum_Cortex', 'Left_Thalamus_Proper', 'Left_Caudate', 'Left_Putamen', 'Left_Pallidum', 'Brain_Stem', 'Left_VentralDC', 'Right_Cerebellum_Cortex', 'Right_Thalamus_Proper', 'Right_Putamen', 'Right_Pallidum', 'Right_VentralDC', 'rh_caudalanteriorcingulate_thickness', 'rh_entorhinal_thickness']\n",
      "---------\n",
      "Validation phase\n",
      "Post-hoc tests\n",
      "No Significant Post-hoc Associations\n"
     ]
    },
    {
     "data": {
      "text/plain": [
       "{'Validation_ROIS': {'Left_Cerebellum_Cortex': 0.5733325555046406,\n",
       "  'Left_Thalamus_Proper': 0.20791486427327932,\n",
       "  'Left_Caudate': 0.4858463807599054,\n",
       "  'Left_Putamen': 0.8330506623985832,\n",
       "  'Left_Pallidum': 0.864400638231237,\n",
       "  'Brain_Stem': 0.6441631696633943,\n",
       "  'Left_VentralDC': 0.8430096350233687,\n",
       "  'Right_Cerebellum_Cortex': 0.5833065808649283,\n",
       "  'Right_Thalamus_Proper': 0.3022271061643485,\n",
       "  'Right_Putamen': 0.6637480562988604,\n",
       "  'Right_Pallidum': 0.9101869589961065,\n",
       "  'Right_VentralDC': 0.7906201400757435,\n",
       "  'rh_caudalanteriorcingulate_thickness': 0.5576485046651827,\n",
       "  'rh_entorhinal_thickness': 0.07277025741601272},\n",
       " 'Posthocs': None}"
      ]
     },
     "execution_count": 53,
     "metadata": {},
     "output_type": "execute_result"
    }
   ],
   "source": [
    "discovery_validation_lm(data=df_volumetric, split_prop=0.5, interaction=True)"
   ]
  },
  {
   "cell_type": "code",
   "execution_count": 54,
   "metadata": {},
   "outputs": [
    {
     "name": "stdout",
     "output_type": "stream",
     "text": [
      "---- Discovery Data ----\n",
      "(485, 113)\n",
      "---- Validation Data ----\n",
      "(485, 113)\n",
      "Outcome set to: GPBNONDOMHANDTIME\n",
      "Interaction Model\n",
      "rois significant in discovery:\n",
      "['Left_Cerebellum_Cortex', 'Left_Thalamus_Proper', 'Left_Caudate', 'Left_Putamen', 'Left_Pallidum', 'Left_VentralDC', 'Right_Cerebellum_Cortex', 'Right_Putamen', 'Right_Pallidum', 'Right_VentralDC', 'rh_caudalanteriorcingulate_thickness']\n",
      "---------\n",
      "Validation phase\n",
      "Post-hoc tests\n",
      "No Significant Post-hoc Associations\n"
     ]
    },
    {
     "data": {
      "text/plain": [
       "{'Validation_ROIS': {'Left_Cerebellum_Cortex': 0.48211711013251624,\n",
       "  'Left_Thalamus_Proper': 0.17230327020418218,\n",
       "  'Left_Caudate': 0.35453659244339353,\n",
       "  'Left_Putamen': 0.6960249770727118,\n",
       "  'Left_Pallidum': 0.8320000187637386,\n",
       "  'Left_VentralDC': 0.8448031626774634,\n",
       "  'Right_Cerebellum_Cortex': 0.42529498111757824,\n",
       "  'Right_Putamen': 0.6974974144797335,\n",
       "  'Right_Pallidum': 0.7585028093432828,\n",
       "  'Right_VentralDC': 0.8830686439902035,\n",
       "  'rh_caudalanteriorcingulate_thickness': 0.9160565658893254},\n",
       " 'Posthocs': None}"
      ]
     },
     "execution_count": 54,
     "metadata": {},
     "output_type": "execute_result"
    }
   ],
   "source": [
    "discovery_validation_lm(data=df_volumetric_harm, split_prop=0.5, interaction=True)"
   ]
  },
  {
   "cell_type": "markdown",
   "metadata": {},
   "source": [
    "#### Machine Learning Approach"
   ]
  },
  {
   "cell_type": "code",
   "execution_count": 81,
   "metadata": {},
   "outputs": [],
   "source": [
    "# Function to split data into predictors and outcome\n",
    "def make_xy(data, outcome):\n",
    "    X_ret=data.drop([outcome, \"Subject\", \"STUDYGROUP\", \"TBI_FLAG\", \"Site\"], axis=1)\n",
    "    X_names=X_ret.columns\n",
    "    X_ret=np.array(X_ret)\n",
    "    y_ret=np.array(data[outcome])\n",
    "    return X_ret, y_ret, X_names\n",
    "\n",
    "def make_merged_xy_df(data_left, data_right, outcome):\n",
    "    X_left=data_left.drop([outcome, \"STUDYGROUP\", \"TBI_FLAG\", \"Site\"], axis=1)\n",
    "    X_right=data_right.drop([\"STUDYGROUP\", \"TBI_FLAG\", \"Site\"], axis=1)\n",
    "    X_merged=pd.merge(X_left, X_right, on='Subject', suffixes=(None, '_drop'))\n",
    "    X_merged=X_merged.iloc[:, ~X_merged.columns.str.contains('_drop$')]\n",
    "    y_ret=X_merged.pop(outcome)\n",
    "    y_ret=pd.DataFrame(y_ret)\n",
    "    X_merged=X_merged.drop('Subject', axis=1)\n",
    "    return X_merged, y_ret\n",
    "\n",
    "# Function to apply several predictive algorithms to data\n",
    "def fit_pipelines(X, y, n_estimators, n_jobs):\n",
    "    \n",
    "    rf_pipeline=make_pipeline(SimpleImputer(missing_values=np.nan, strategy='median'), \n",
    "                               StandardScaler(), \n",
    "                               RandomForestRegressor(n_estimators=n_estimators, random_state=0, n_jobs=n_jobs))\n",
    "    \n",
    "    '''\n",
    "    gbr_pipeline=make_pipeline(SimpleImputer(missing_values=np.nan, strategy='median'),\n",
    "                             StandardScaler(),\n",
    "                             GradientBoostingRegressor(random_state=0, n_estimators=500))\n",
    "\n",
    "    svm_pipeline=make_pipeline(SimpleImputer(missing_values=np.nan, strategy='median'), \n",
    "                               StandardScaler(), \n",
    "                               SVR(C=1, epsilon=0.2, kernel='rbf', gamma='auto'))\n",
    "\n",
    "    pipelines = [rf_pipeline, gbr_pipeline, svm_pipeline]\n",
    "    \n",
    "    '''\n",
    "    \n",
    "    pipelines = [rf_pipeline]\n",
    "    \n",
    "    cv = KFold(n_splits=10, shuffle=False, random_state=0)\n",
    "\n",
    "    results = {}\n",
    "    pred = {}\n",
    "    for index, pipe in enumerate(pipelines):\n",
    "        results[index]=cross_val_score(pipe, X, y, cv=cv)\n",
    "        pred[index]=cross_val_predict(pipe, X, y, cv=cv)\n",
    "    \n",
    "    res_dict = {'rsquared': results, \n",
    "               'predicted': pred,\n",
    "               'actual': y}\n",
    "        \n",
    "    return res_dict\n",
    "\n",
    "# Function to outline prediction performances\n",
    "def pva_plots(results):\n",
    "            \n",
    "    # PvA Plots\n",
    "    res_df=pd.DataFrame({'RFR': results['predicted'][0], \n",
    "                         #'GBR': results['predicted'][1], \n",
    "                         #'SVR': results['predicted'][2], \n",
    "                         'Actual': results['actual']})\n",
    "    m=res_df.melt(id_vars='Actual')    \n",
    "    g=sns.FacetGrid(m, col=\"variable\")\n",
    "    g.map(sns.regplot, 'Actual', 'value')\n",
    "    \n",
    "    # PvA Correlations\n",
    "    print(m.groupby(['variable']).corr())\n",
    "    \n",
    "\n",
    "def var_imp_plot(X, y, x_names, n_estimators, n_jobs):\n",
    "    \n",
    "    clf=make_pipeline(SimpleImputer(missing_values=np.nan, strategy='median'), \n",
    "                               StandardScaler(), \n",
    "                               RandomForestRegressor(n_estimators=n_estimators, random_state=0, n_jobs=n_jobs))\n",
    "    \n",
    "    clf.fit(X,y)\n",
    "\n",
    "    df=pd.DataFrame({'Importance': clf.named_steps['randomforestregressor'].feature_importances_,\n",
    "                       'Feature': x_names})\n",
    "    \n",
    "    df=df.sort_values('Importance', ascending=False)\n",
    "\n",
    "    sns.set(rc={'figure.figsize':(12,5)})\n",
    "    g=sns.barplot(x='Feature', y='Importance', data = df[:10])\n",
    "    g.set_xticklabels(g.get_xticklabels(), rotation=45, horizontalalignment='right')\n",
    "\n",
    "def plot_permutation_importance(X, y, n_estimators, n_jobs):\n",
    "\n",
    "    rf=make_pipeline(SimpleImputer(missing_values=np.nan, strategy='median'), \n",
    "                                   StandardScaler(), \n",
    "                                   RandomForestRegressor(n_estimators=n_estimators, random_state=0, n_jobs=n_jobs))\n",
    "\n",
    "    rf.fit(X,y.values.ravel())\n",
    "    \n",
    "    result = permutation_importance(rf, X, y.values.ravel(), n_repeats=10, random_state=0, n_jobs=n_jobs)\n",
    "    sorted_idx = result.importances_mean.argsort()\n",
    "\n",
    "    fig, ax = plt.subplots()\n",
    "    ax.boxplot(result.importances[sorted_idx[-10:]].T,\n",
    "               vert=False, labels=X.columns[sorted_idx[-10:]])\n",
    "    ax.set_title(\"Permutation Importances (test set)\")\n",
    "    fig.tight_layout()\n",
    "    plt.show()\n",
    "    \n",
    "def pdp_plots(features_to_plot, X, y, n_estimators, n_jobs):\n",
    "\n",
    "    imp=SimpleImputer(missing_values=np.nan, strategy='median')\n",
    "\n",
    "    imp.fit(X)\n",
    "\n",
    "    X_imp=imp.transform(X)\n",
    "\n",
    "    clf=RandomForestRegressor(n_estimators=n_estimators, random_state=0, n_jobs=n_jobs)\n",
    "    \n",
    "    clf.fit(X_imp, y)\n",
    "\n",
    "    features=[i for i, name in enumerate(x_names) if name in features_to_plot]\n",
    "\n",
    "    plot_partial_dependence(clf, X_imp, features) \n",
    "\n",
    "    \n",
    "def permutation_null_distribution(X, y, n_perm, n_jobs):\n",
    "    \n",
    "    rf_pipeline=make_pipeline(SimpleImputer(missing_values=np.nan, strategy='median'), \n",
    "                               StandardScaler(), \n",
    "                               RandomForestRegressor(n_estimators=n_estimators, random_state=0, n_jobs=n_jobs))    \n",
    "\n",
    "    pipelines = [rf_pipeline]\n",
    "\n",
    "    cv = KFold(n_splits=10, shuffle=False, random_state=0)\n",
    "    \n",
    "    permutations = []\n",
    "    \n",
    "    for p in range(n_perm):\n",
    "        \n",
    "        if p % 50 == 0: \n",
    "            print('Permutation number: {}'.format(p))\n",
    "        \n",
    "        # shuffle outcome\n",
    "        y_shuffle=np.random.choice(y, size=len(y), replace=False)\n",
    "\n",
    "        results = {}\n",
    "        pred = {}\n",
    "        for index, pipe in enumerate(pipelines):\n",
    "            results[index]=cross_val_score(pipe, X, y_shuffle, cv=cv)\n",
    "            pred[index]=cross_val_predict(pipe, X, y_shuffle, cv=cv)\n",
    "\n",
    "        res_dict = {'rsquared': results, \n",
    "                   'predicted': pred,\n",
    "                   'actual_shuffled': y_shuffle}\n",
    "        \n",
    "        permutations.append(res_dict)\n",
    "        \n",
    "    return permutations\n",
    "\n",
    "def evaluate_permutation(perms, obs):\n",
    "    permdist=[]\n",
    "    \n",
    "    for i in range(len(perms)):\n",
    "        cor=np.corrcoef(perms[i]['actual_shuffled'], perms[i]['predicted'][0])[0][1]\n",
    "        permdist.append(cor)        \n",
    "    \n",
    "    pvalue=((np.sum([x >= obs for x in permdist]) +1 ) / (len(permdist) + 1))\n",
    "    \n",
    "    res={'pvalue': pvalue,\n",
    "        'null_distribution': permdist}\n",
    "    \n",
    "    return(res)\n"
   ]
  },
  {
   "cell_type": "markdown",
   "metadata": {},
   "source": [
    "# Prediction with merged data"
   ]
  },
  {
   "cell_type": "code",
   "execution_count": 79,
   "metadata": {},
   "outputs": [
    {
     "name": "stdout",
     "output_type": "stream",
     "text": [
      "(893, 171)\n",
      "(893, 1)\n"
     ]
    }
   ],
   "source": [
    "X, y=make_merged_xy_df(data_left=df_diffusion_harm, data_right=df_volumetric_harm, outcome=y_name)\n",
    "print(X.shape)\n",
    "print(y.shape)"
   ]
  },
  {
   "cell_type": "code",
   "execution_count": 58,
   "metadata": {},
   "outputs": [
    {
     "name": "stderr",
     "output_type": "stream",
     "text": [
      "/Users/Tate/opt/anaconda3/lib/python3.7/site-packages/sklearn/model_selection/_split.py:297: FutureWarning: Setting a random_state has no effect since shuffle is False. This will raise an error in 0.24. You should leave random_state to its default (None), or set shuffle=True.\n",
      "  FutureWarning\n"
     ]
    }
   ],
   "source": [
    "res_merged=fit_pipelines(X, y.values.ravel(), n_estimators=n_estimators, n_jobs=n_jobs)"
   ]
  },
  {
   "cell_type": "code",
   "execution_count": 59,
   "metadata": {},
   "outputs": [
    {
     "name": "stdout",
     "output_type": "stream",
     "text": [
      "                   Actual     value\n",
      "variable                           \n",
      "RFR      Actual  1.000000  0.161633\n",
      "         value   0.161633  1.000000\n"
     ]
    },
    {
     "data": {
      "image/png": "[encoded data removed]",
      "text/plain": [
       "<Figure size 216x216 with 1 Axes>"
      ]
     },
     "metadata": {},
     "output_type": "display_data"
    }
   ],
   "source": [
    "pva_plots(results=res_merged)"
   ]
  },
  {
   "cell_type": "code",
   "execution_count": 60,
   "metadata": {},
   "outputs": [
    {
     "ename": "TypeError",
     "evalue": "permutation_null_distribution() missing 1 required positional argument: 'n_perm'",
     "output_type": "error",
     "traceback": [
      "\u001b[0;31m---------------------------------------------------------------------------\u001b[0m",
      "\u001b[0;31mTypeError\u001b[0m                                 Traceback (most recent call last)",
      "\u001b[0;32m<ipython-input-60-514fbf51bdc6>\u001b[0m in \u001b[0;36m<module>\u001b[0;34m\u001b[0m\n\u001b[0;32m----> 1\u001b[0;31m \u001b[0mperm_dist\u001b[0m\u001b[0;34m=\u001b[0m\u001b[0mpermutation_null_distribution\u001b[0m\u001b[0;34m(\u001b[0m\u001b[0mX\u001b[0m\u001b[0;34m,\u001b[0m \u001b[0my\u001b[0m\u001b[0;34m.\u001b[0m\u001b[0mvalues\u001b[0m\u001b[0;34m.\u001b[0m\u001b[0mravel\u001b[0m\u001b[0;34m(\u001b[0m\u001b[0;34m)\u001b[0m\u001b[0;34m)\u001b[0m\u001b[0;34m\u001b[0m\u001b[0;34m\u001b[0m\u001b[0m\n\u001b[0m",
      "\u001b[0;31mTypeError\u001b[0m: permutation_null_distribution() missing 1 required positional argument: 'n_perm'"
     ]
    }
   ],
   "source": [
    "perm_dist=permutation_null_distribution(X, y.values.ravel(), n_perm=n_perm, n_jobs=n_jobs)"
   ]
  },
  {
   "cell_type": "code",
   "execution_count": null,
   "metadata": {},
   "outputs": [],
   "source": [
    "permutation_results=evaluate_permutation(perm_dist, obs=0.207)\n",
    "print(permutation_results['pvalue'])\n",
    "sns.distplot(permutation_results['null_distribution'], hist_kws={\"range\": [-.3,.3]})\n",
    "plt.axvline(0.2, 0, 12, color='red')"
   ]
  },
  {
   "cell_type": "markdown",
   "metadata": {},
   "source": [
    "### Use permutation-based importance scores"
   ]
  },
  {
   "cell_type": "code",
   "execution_count": 82,
   "metadata": {},
   "outputs": [
    {
     "data": {
      "image/png": "[encoded data removed]",
      "text/plain": [
       "<Figure size 432x288 with 1 Axes>"
      ]
     },
     "metadata": {},
     "output_type": "display_data"
    }
   ],
   "source": [
    "plot_permutation_importance(X=X, y=y, n_estimators=n_estimators, n_jobs=n_jobs)"
   ]
  },
  {
   "cell_type": "markdown",
   "metadata": {},
   "source": [
    "# Experimental Approaches"
   ]
  },
  {
   "cell_type": "markdown",
   "metadata": {},
   "source": [
    "### N-repeated K-fold Cross Validation"
   ]
  },
  {
   "cell_type": "code",
   "execution_count": null,
   "metadata": {},
   "outputs": [],
   "source": [
    "# Grid Search Embeded in Pipeline: https://scikit-learn.org/stable/tutorial/statistical_inference/putting_together.html\n",
    "from sklearn.pipeline import Pipeline\n",
    "from sklearn.model_selection import GridSearchCV\n",
    "\n",
    "pipe=Pipeline(steps=[('Imputation', SimpleImputer(missing_values=np.nan, strategy='median')), \n",
    "                     ('Scale', StandardScaler()),\n",
    "                     ('RFR', RandomForestRegressor())])\n",
    "\n",
    "\n",
    "param_grid = {\n",
    "    'RFR__n_estimators': [100, 500, 1000]\n",
    "}\n",
    "\n",
    "search = GridSearchCV(pipe, param_grid, n_jobs=-1)\n",
    "search.fit(X, y)\n",
    "print(\"Best parameter (CV score=%0.3f):\" % search.best_score_)\n",
    "print(search.best_params_)"
   ]
  },
  {
   "cell_type": "code",
   "execution_count": null,
   "metadata": {},
   "outputs": [],
   "source": []
  },
  {
   "cell_type": "code",
   "execution_count": null,
   "metadata": {},
   "outputs": [],
   "source": [
    "# Try Repeated K-fold CV\n",
    "from sklearn.model_selection import RepeatedKFold\n",
    "\n",
    "rkf = RepeatedKFold(n_splits=2, n_repeats=1)\n",
    "clf = make_pipeline(SimpleImputer(missing_values=np.nan, strategy='median'), \n",
    "                    StandardScaler(), \n",
    "                    RandomForestRegressor(n_estimators=10))\n",
    "\n",
    "pred={}\n",
    "actual={}\n",
    "index=0\n",
    "for train_index, test_index in rkf.split(X):\n",
    "    print(index)\n",
    "    X_train, X_test = X[train_index], X[test_index]\n",
    "    y_train, y_test = y[train_index], y[test_index]\n",
    "    clf.fit(X_train, y_train)\n",
    "    pred[index]=clf.predict(X_test)\n",
    "    actual[index]=y_test\n",
    "    index += 1\n",
    "    "
   ]
  },
  {
   "cell_type": "code",
   "execution_count": null,
   "metadata": {},
   "outputs": [],
   "source": [
    "cm=[]\n",
    "for i in range(len(pred)):\n",
    "    cm.append(np.corrcoef(pred[i], actual[i])[1][0])\n",
    "sns.distplot(cm)"
   ]
  },
  {
   "cell_type": "code",
   "execution_count": null,
   "metadata": {},
   "outputs": [],
   "source": []
  }
 ],
 "metadata": {
  "kernelspec": {
   "display_name": "Python 3",
   "language": "python",
   "name": "python3"
  },
  "language_info": {
   "codemirror_mode": {
    "name": "ipython",
    "version": 3
   },
   "file_extension": ".py",
   "mimetype": "text/x-python",
   "name": "python",
   "nbconvert_exporter": "python",
   "pygments_lexer": "ipython3",
   "version": "3.7.4"
  }
 },
 "nbformat": 4,
 "nbformat_minor": 4
}
